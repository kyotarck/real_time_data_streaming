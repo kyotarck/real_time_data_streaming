{
  "cells": [
    {
      "cell_type": "markdown",
      "metadata": {},
      "source": [
        "<font color=\"green\"> <h3 align=\"left\">Étude de Cas : Streaming de Données Vélib avec Kafka en Python</h3></font>\n",
        "<p><b>Contexte :</b> Vous êtes chargé de développer un système de streaming de données pour collecter et afficher en temps réel les informations des stations Vélib de Paris. L'utilisation de Kafka est essentielle pour gérer efficacement le flux de données.</p>\n",
        "<p><b>Données de données:</b> https://velib-metropole-opendata.smoove.pro/opendata/Velib_Metropole/station_status.json</p>\n",
        "\n",
        "<p><b>Objectifs :</b></p>\n",
        "<ul>\n",
        "<li><b>Collecte des Données de Vélib :</b>\n",
        "    <ul>\n",
        "    <li>Développez un script Python nommé <code>producer.py</code> qui collecte les données en temps réel de l'API Vélib.</li>\n",
        "    <li>Envoyez ces données à un topic Kafka nommé <code>velib</code>.</li>\n",
        "    <li>Le script doit être exécutable via un terminal avec la commande <code>python producer.py</code>.</li>\n",
        "    </ul>\n",
        "</li>\n",
        "<li><b>Traitement et Affichage des Données :</b>\n",
        "    <ul>\n",
        "    <li>Réalisez un second script Python nommé <code>consumer.py</code> qui lit les données du topic Kafka <code>velib</code>.</li>\n",
        "    <li>Le script doit afficher les données récupérées en temps réel.</li>\n",
        "    <li>Lancez ce script via un terminal avec la commande <code>python consumer.py</code>.</li>\n",
        "    </ul>\n",
        "</li>\n",
        "</ul>\n",
        "\n",
        "\n"
      ]
    },
    {
      "cell_type": "code",
      "execution_count": null,
      "metadata": {},
      "outputs": [],
      "source": [
        "import requests\n",
        "import json\n",
        "\n",
        "url = \"https://velib-metropole-opendata.smoove.pro/opendata/Velib_Metropole/station_information.json\"\n",
        "data_velib = "
      ]
    }
  ],
  "metadata": {
    "colab": {
      "provenance": []
    },
    "kernelspec": {
      "display_name": "Python 3 (ipykernel)",
      "language": "python",
      "name": "python3"
    }
  },
  "nbformat": 4,
  "nbformat_minor": 0
}
